{
 "cells": [
  {
   "cell_type": "code",
   "execution_count": 1,
   "id": "joint-saudi",
   "metadata": {
    "_cell_guid": "b1076dfc-b9ad-4769-8c92-a6c4dae69d19",
    "_uuid": "8f2839f25d086af736a60e9eeb907d3b93b6e0e5",
    "execution": {
     "iopub.execute_input": "2021-05-04T05:05:56.844163Z",
     "iopub.status.busy": "2021-05-04T05:05:56.843119Z",
     "iopub.status.idle": "2021-05-04T05:05:56.848782Z",
     "shell.execute_reply": "2021-05-04T05:05:56.849379Z"
    },
    "papermill": {
     "duration": 0.035717,
     "end_time": "2021-05-04T05:05:56.849782",
     "exception": false,
     "start_time": "2021-05-04T05:05:56.814065",
     "status": "completed"
    },
    "tags": []
   },
   "outputs": [
    {
     "name": "stdout",
     "output_type": "stream",
     "text": [
      "/kaggle/input/titanic/train.csv\n",
      "/kaggle/input/titanic/test.csv\n",
      "/kaggle/input/titanic/gender_submission.csv\n"
     ]
    }
   ],
   "source": [
    "# This Python 3 environment comes with many helpful analytics libraries installed\n",
    "# It is defined by the kaggle/python Docker image: https://github.com/kaggle/docker-python\n",
    "# For example, here's several helpful packages to load\n",
    "\n",
    "import numpy as np # linear algebra\n",
    "import pandas as pd # data processing, CSV file I/O (e.g. pd.read_csv)\n",
    "\n",
    "# Input data files are available in the read-only \"../input/\" directory\n",
    "# For example, running this (by clicking run or pressing Shift+Enter) will list all files under the input directory\n",
    "\n",
    "import os\n",
    "for dirname, _, filenames in os.walk('/kaggle/input'):\n",
    "    for filename in filenames:\n",
    "        print(os.path.join(dirname, filename))\n",
    "\n",
    "# You can write up to 20GB to the current directory (/kaggle/working/) that gets preserved as output when you create a version using \"Save & Run All\" \n",
    "# You can also write temporary files to /kaggle/temp/, but they won't be saved outside of the current session"
   ]
  },
  {
   "cell_type": "code",
   "execution_count": 2,
   "id": "european-framework",
   "metadata": {
    "execution": {
     "iopub.execute_input": "2021-05-04T05:05:56.885334Z",
     "iopub.status.busy": "2021-05-04T05:05:56.884575Z",
     "iopub.status.idle": "2021-05-04T05:05:58.247523Z",
     "shell.execute_reply": "2021-05-04T05:05:58.246947Z"
    },
    "papermill": {
     "duration": 1.382301,
     "end_time": "2021-05-04T05:05:58.247691",
     "exception": false,
     "start_time": "2021-05-04T05:05:56.865390",
     "status": "completed"
    },
    "tags": []
   },
   "outputs": [],
   "source": [
    "# import library\n",
    "from sklearn.ensemble import RandomForestClassifier\n",
    "from sklearn.model_selection import StratifiedKFold\n",
    "from sklearn.preprocessing import StandardScaler"
   ]
  },
  {
   "cell_type": "code",
   "execution_count": 3,
   "id": "responsible-period",
   "metadata": {
    "execution": {
     "iopub.execute_input": "2021-05-04T05:05:58.282795Z",
     "iopub.status.busy": "2021-05-04T05:05:58.282143Z",
     "iopub.status.idle": "2021-05-04T05:05:58.307589Z",
     "shell.execute_reply": "2021-05-04T05:05:58.307029Z"
    },
    "papermill": {
     "duration": 0.045007,
     "end_time": "2021-05-04T05:05:58.307741",
     "exception": false,
     "start_time": "2021-05-04T05:05:58.262734",
     "status": "completed"
    },
    "tags": []
   },
   "outputs": [],
   "source": [
    "df_train = pd.read_csv(\"../input/titanic/train.csv\")\n",
    "df_test = pd.read_csv(\"../input/titanic/test.csv\")"
   ]
  },
  {
   "cell_type": "code",
   "execution_count": 4,
   "id": "sharing-template",
   "metadata": {
    "execution": {
     "iopub.execute_input": "2021-05-04T05:05:58.349602Z",
     "iopub.status.busy": "2021-05-04T05:05:58.348913Z",
     "iopub.status.idle": "2021-05-04T05:05:58.374175Z",
     "shell.execute_reply": "2021-05-04T05:05:58.373501Z"
    },
    "papermill": {
     "duration": 0.05183,
     "end_time": "2021-05-04T05:05:58.374321",
     "exception": false,
     "start_time": "2021-05-04T05:05:58.322491",
     "status": "completed"
    },
    "tags": []
   },
   "outputs": [
    {
     "data": {
      "text/html": [
       "<div>\n",
       "<style scoped>\n",
       "    .dataframe tbody tr th:only-of-type {\n",
       "        vertical-align: middle;\n",
       "    }\n",
       "\n",
       "    .dataframe tbody tr th {\n",
       "        vertical-align: top;\n",
       "    }\n",
       "\n",
       "    .dataframe thead th {\n",
       "        text-align: right;\n",
       "    }\n",
       "</style>\n",
       "<table border=\"1\" class=\"dataframe\">\n",
       "  <thead>\n",
       "    <tr style=\"text-align: right;\">\n",
       "      <th></th>\n",
       "      <th>PassengerId</th>\n",
       "      <th>Survived</th>\n",
       "      <th>Pclass</th>\n",
       "      <th>Name</th>\n",
       "      <th>Sex</th>\n",
       "      <th>Age</th>\n",
       "      <th>SibSp</th>\n",
       "      <th>Parch</th>\n",
       "      <th>Ticket</th>\n",
       "      <th>Fare</th>\n",
       "      <th>Cabin</th>\n",
       "      <th>Embarked</th>\n",
       "    </tr>\n",
       "  </thead>\n",
       "  <tbody>\n",
       "    <tr>\n",
       "      <th>0</th>\n",
       "      <td>1</td>\n",
       "      <td>0</td>\n",
       "      <td>3</td>\n",
       "      <td>Braund, Mr. Owen Harris</td>\n",
       "      <td>male</td>\n",
       "      <td>22.0</td>\n",
       "      <td>1</td>\n",
       "      <td>0</td>\n",
       "      <td>A/5 21171</td>\n",
       "      <td>7.2500</td>\n",
       "      <td>NaN</td>\n",
       "      <td>S</td>\n",
       "    </tr>\n",
       "    <tr>\n",
       "      <th>1</th>\n",
       "      <td>2</td>\n",
       "      <td>1</td>\n",
       "      <td>1</td>\n",
       "      <td>Cumings, Mrs. John Bradley (Florence Briggs Th...</td>\n",
       "      <td>female</td>\n",
       "      <td>38.0</td>\n",
       "      <td>1</td>\n",
       "      <td>0</td>\n",
       "      <td>PC 17599</td>\n",
       "      <td>71.2833</td>\n",
       "      <td>C85</td>\n",
       "      <td>C</td>\n",
       "    </tr>\n",
       "    <tr>\n",
       "      <th>2</th>\n",
       "      <td>3</td>\n",
       "      <td>1</td>\n",
       "      <td>3</td>\n",
       "      <td>Heikkinen, Miss. Laina</td>\n",
       "      <td>female</td>\n",
       "      <td>26.0</td>\n",
       "      <td>0</td>\n",
       "      <td>0</td>\n",
       "      <td>STON/O2. 3101282</td>\n",
       "      <td>7.9250</td>\n",
       "      <td>NaN</td>\n",
       "      <td>S</td>\n",
       "    </tr>\n",
       "    <tr>\n",
       "      <th>3</th>\n",
       "      <td>4</td>\n",
       "      <td>1</td>\n",
       "      <td>1</td>\n",
       "      <td>Futrelle, Mrs. Jacques Heath (Lily May Peel)</td>\n",
       "      <td>female</td>\n",
       "      <td>35.0</td>\n",
       "      <td>1</td>\n",
       "      <td>0</td>\n",
       "      <td>113803</td>\n",
       "      <td>53.1000</td>\n",
       "      <td>C123</td>\n",
       "      <td>S</td>\n",
       "    </tr>\n",
       "    <tr>\n",
       "      <th>4</th>\n",
       "      <td>5</td>\n",
       "      <td>0</td>\n",
       "      <td>3</td>\n",
       "      <td>Allen, Mr. William Henry</td>\n",
       "      <td>male</td>\n",
       "      <td>35.0</td>\n",
       "      <td>0</td>\n",
       "      <td>0</td>\n",
       "      <td>373450</td>\n",
       "      <td>8.0500</td>\n",
       "      <td>NaN</td>\n",
       "      <td>S</td>\n",
       "    </tr>\n",
       "  </tbody>\n",
       "</table>\n",
       "</div>"
      ],
      "text/plain": [
       "   PassengerId  Survived  Pclass  \\\n",
       "0            1         0       3   \n",
       "1            2         1       1   \n",
       "2            3         1       3   \n",
       "3            4         1       1   \n",
       "4            5         0       3   \n",
       "\n",
       "                                                Name     Sex   Age  SibSp  \\\n",
       "0                            Braund, Mr. Owen Harris    male  22.0      1   \n",
       "1  Cumings, Mrs. John Bradley (Florence Briggs Th...  female  38.0      1   \n",
       "2                             Heikkinen, Miss. Laina  female  26.0      0   \n",
       "3       Futrelle, Mrs. Jacques Heath (Lily May Peel)  female  35.0      1   \n",
       "4                           Allen, Mr. William Henry    male  35.0      0   \n",
       "\n",
       "   Parch            Ticket     Fare Cabin Embarked  \n",
       "0      0         A/5 21171   7.2500   NaN        S  \n",
       "1      0          PC 17599  71.2833   C85        C  \n",
       "2      0  STON/O2. 3101282   7.9250   NaN        S  \n",
       "3      0            113803  53.1000  C123        S  \n",
       "4      0            373450   8.0500   NaN        S  "
      ]
     },
     "execution_count": 4,
     "metadata": {},
     "output_type": "execute_result"
    }
   ],
   "source": [
    "df_train.head()"
   ]
  },
  {
   "cell_type": "code",
   "execution_count": 5,
   "id": "graduate-colon",
   "metadata": {
    "execution": {
     "iopub.execute_input": "2021-05-04T05:05:58.421046Z",
     "iopub.status.busy": "2021-05-04T05:05:58.420117Z",
     "iopub.status.idle": "2021-05-04T05:05:58.425102Z",
     "shell.execute_reply": "2021-05-04T05:05:58.424430Z"
    },
    "papermill": {
     "duration": 0.035762,
     "end_time": "2021-05-04T05:05:58.425249",
     "exception": false,
     "start_time": "2021-05-04T05:05:58.389487",
     "status": "completed"
    },
    "tags": []
   },
   "outputs": [
    {
     "data": {
      "text/html": [
       "<div>\n",
       "<style scoped>\n",
       "    .dataframe tbody tr th:only-of-type {\n",
       "        vertical-align: middle;\n",
       "    }\n",
       "\n",
       "    .dataframe tbody tr th {\n",
       "        vertical-align: top;\n",
       "    }\n",
       "\n",
       "    .dataframe thead th {\n",
       "        text-align: right;\n",
       "    }\n",
       "</style>\n",
       "<table border=\"1\" class=\"dataframe\">\n",
       "  <thead>\n",
       "    <tr style=\"text-align: right;\">\n",
       "      <th></th>\n",
       "      <th>PassengerId</th>\n",
       "      <th>Pclass</th>\n",
       "      <th>Name</th>\n",
       "      <th>Sex</th>\n",
       "      <th>Age</th>\n",
       "      <th>SibSp</th>\n",
       "      <th>Parch</th>\n",
       "      <th>Ticket</th>\n",
       "      <th>Fare</th>\n",
       "      <th>Cabin</th>\n",
       "      <th>Embarked</th>\n",
       "    </tr>\n",
       "  </thead>\n",
       "  <tbody>\n",
       "    <tr>\n",
       "      <th>0</th>\n",
       "      <td>892</td>\n",
       "      <td>3</td>\n",
       "      <td>Kelly, Mr. James</td>\n",
       "      <td>male</td>\n",
       "      <td>34.5</td>\n",
       "      <td>0</td>\n",
       "      <td>0</td>\n",
       "      <td>330911</td>\n",
       "      <td>7.8292</td>\n",
       "      <td>NaN</td>\n",
       "      <td>Q</td>\n",
       "    </tr>\n",
       "    <tr>\n",
       "      <th>1</th>\n",
       "      <td>893</td>\n",
       "      <td>3</td>\n",
       "      <td>Wilkes, Mrs. James (Ellen Needs)</td>\n",
       "      <td>female</td>\n",
       "      <td>47.0</td>\n",
       "      <td>1</td>\n",
       "      <td>0</td>\n",
       "      <td>363272</td>\n",
       "      <td>7.0000</td>\n",
       "      <td>NaN</td>\n",
       "      <td>S</td>\n",
       "    </tr>\n",
       "    <tr>\n",
       "      <th>2</th>\n",
       "      <td>894</td>\n",
       "      <td>2</td>\n",
       "      <td>Myles, Mr. Thomas Francis</td>\n",
       "      <td>male</td>\n",
       "      <td>62.0</td>\n",
       "      <td>0</td>\n",
       "      <td>0</td>\n",
       "      <td>240276</td>\n",
       "      <td>9.6875</td>\n",
       "      <td>NaN</td>\n",
       "      <td>Q</td>\n",
       "    </tr>\n",
       "    <tr>\n",
       "      <th>3</th>\n",
       "      <td>895</td>\n",
       "      <td>3</td>\n",
       "      <td>Wirz, Mr. Albert</td>\n",
       "      <td>male</td>\n",
       "      <td>27.0</td>\n",
       "      <td>0</td>\n",
       "      <td>0</td>\n",
       "      <td>315154</td>\n",
       "      <td>8.6625</td>\n",
       "      <td>NaN</td>\n",
       "      <td>S</td>\n",
       "    </tr>\n",
       "    <tr>\n",
       "      <th>4</th>\n",
       "      <td>896</td>\n",
       "      <td>3</td>\n",
       "      <td>Hirvonen, Mrs. Alexander (Helga E Lindqvist)</td>\n",
       "      <td>female</td>\n",
       "      <td>22.0</td>\n",
       "      <td>1</td>\n",
       "      <td>1</td>\n",
       "      <td>3101298</td>\n",
       "      <td>12.2875</td>\n",
       "      <td>NaN</td>\n",
       "      <td>S</td>\n",
       "    </tr>\n",
       "  </tbody>\n",
       "</table>\n",
       "</div>"
      ],
      "text/plain": [
       "   PassengerId  Pclass                                          Name     Sex  \\\n",
       "0          892       3                              Kelly, Mr. James    male   \n",
       "1          893       3              Wilkes, Mrs. James (Ellen Needs)  female   \n",
       "2          894       2                     Myles, Mr. Thomas Francis    male   \n",
       "3          895       3                              Wirz, Mr. Albert    male   \n",
       "4          896       3  Hirvonen, Mrs. Alexander (Helga E Lindqvist)  female   \n",
       "\n",
       "    Age  SibSp  Parch   Ticket     Fare Cabin Embarked  \n",
       "0  34.5      0      0   330911   7.8292   NaN        Q  \n",
       "1  47.0      1      0   363272   7.0000   NaN        S  \n",
       "2  62.0      0      0   240276   9.6875   NaN        Q  \n",
       "3  27.0      0      0   315154   8.6625   NaN        S  \n",
       "4  22.0      1      1  3101298  12.2875   NaN        S  "
      ]
     },
     "execution_count": 5,
     "metadata": {},
     "output_type": "execute_result"
    }
   ],
   "source": [
    "df_test.head()"
   ]
  },
  {
   "cell_type": "code",
   "execution_count": 6,
   "id": "balanced-girlfriend",
   "metadata": {
    "execution": {
     "iopub.execute_input": "2021-05-04T05:05:58.478365Z",
     "iopub.status.busy": "2021-05-04T05:05:58.463657Z",
     "iopub.status.idle": "2021-05-04T05:05:58.484969Z",
     "shell.execute_reply": "2021-05-04T05:05:58.483887Z"
    },
    "papermill": {
     "duration": 0.044036,
     "end_time": "2021-05-04T05:05:58.485203",
     "exception": false,
     "start_time": "2021-05-04T05:05:58.441167",
     "status": "completed"
    },
    "tags": []
   },
   "outputs": [
    {
     "name": "stdout",
     "output_type": "stream",
     "text": [
      "<class 'pandas.core.frame.DataFrame'>\n",
      "RangeIndex: 891 entries, 0 to 890\n",
      "Data columns (total 12 columns):\n",
      " #   Column       Non-Null Count  Dtype  \n",
      "---  ------       --------------  -----  \n",
      " 0   PassengerId  891 non-null    int64  \n",
      " 1   Survived     891 non-null    int64  \n",
      " 2   Pclass       891 non-null    int64  \n",
      " 3   Name         891 non-null    object \n",
      " 4   Sex          891 non-null    object \n",
      " 5   Age          714 non-null    float64\n",
      " 6   SibSp        891 non-null    int64  \n",
      " 7   Parch        891 non-null    int64  \n",
      " 8   Ticket       891 non-null    object \n",
      " 9   Fare         891 non-null    float64\n",
      " 10  Cabin        204 non-null    object \n",
      " 11  Embarked     889 non-null    object \n",
      "dtypes: float64(2), int64(5), object(5)\n",
      "memory usage: 83.7+ KB\n"
     ]
    },
    {
     "name": "stderr",
     "output_type": "stream",
     "text": [
      "/opt/conda/lib/python3.7/site-packages/ipykernel_launcher.py:1: FutureWarning: null_counts is deprecated. Use show_counts instead\n",
      "  \"\"\"Entry point for launching an IPython kernel.\n"
     ]
    }
   ],
   "source": [
    "df_train.info(verbose=True, null_counts=True)"
   ]
  },
  {
   "cell_type": "code",
   "execution_count": 7,
   "id": "young-handbook",
   "metadata": {
    "execution": {
     "iopub.execute_input": "2021-05-04T05:05:58.526277Z",
     "iopub.status.busy": "2021-05-04T05:05:58.525571Z",
     "iopub.status.idle": "2021-05-04T05:05:58.535858Z",
     "shell.execute_reply": "2021-05-04T05:05:58.535151Z"
    },
    "papermill": {
     "duration": 0.033208,
     "end_time": "2021-05-04T05:05:58.536011",
     "exception": false,
     "start_time": "2021-05-04T05:05:58.502803",
     "status": "completed"
    },
    "tags": []
   },
   "outputs": [],
   "source": [
    "# handle missing value\n",
    "df_train['Age'].fillna(df_train['Age'].median(), inplace=True)\n",
    "df_test['Age'].fillna(df_train['Age'].median(), inplace=True)\n",
    "df_train['Cabin'].fillna('Unknown', inplace=True)\n",
    "df_test['Cabin'].fillna('Unknown', inplace=True)\n",
    "df_train['Embarked'].fillna('Unknown', inplace=True)\n",
    "df_test['Embarked'].fillna('Unknown', inplace=True)"
   ]
  },
  {
   "cell_type": "code",
   "execution_count": 8,
   "id": "sealed-scott",
   "metadata": {
    "execution": {
     "iopub.execute_input": "2021-05-04T05:05:58.582608Z",
     "iopub.status.busy": "2021-05-04T05:05:58.578293Z",
     "iopub.status.idle": "2021-05-04T05:05:58.621330Z",
     "shell.execute_reply": "2021-05-04T05:05:58.620686Z"
    },
    "papermill": {
     "duration": 0.068821,
     "end_time": "2021-05-04T05:05:58.621477",
     "exception": false,
     "start_time": "2021-05-04T05:05:58.552656",
     "status": "completed"
    },
    "tags": []
   },
   "outputs": [],
   "source": [
    "df_test_passengerId = df_test['PassengerId']\n",
    "df = df_train.append(df_test)\n",
    "df = df.drop(['PassengerId','Name'], axis=1)\n",
    "df = pd.get_dummies(data=df, drop_first=True)\n",
    "df_train = df[~df['Survived'].isnull()]\n",
    "df_test = df[df['Survived'].isnull()]"
   ]
  },
  {
   "cell_type": "code",
   "execution_count": 9,
   "id": "minute-contributor",
   "metadata": {
    "execution": {
     "iopub.execute_input": "2021-05-04T05:05:58.662585Z",
     "iopub.status.busy": "2021-05-04T05:05:58.661800Z",
     "iopub.status.idle": "2021-05-04T05:05:58.685007Z",
     "shell.execute_reply": "2021-05-04T05:05:58.684176Z"
    },
    "papermill": {
     "duration": 0.046196,
     "end_time": "2021-05-04T05:05:58.685168",
     "exception": false,
     "start_time": "2021-05-04T05:05:58.638972",
     "status": "completed"
    },
    "tags": []
   },
   "outputs": [
    {
     "data": {
      "text/html": [
       "<div>\n",
       "<style scoped>\n",
       "    .dataframe tbody tr th:only-of-type {\n",
       "        vertical-align: middle;\n",
       "    }\n",
       "\n",
       "    .dataframe tbody tr th {\n",
       "        vertical-align: top;\n",
       "    }\n",
       "\n",
       "    .dataframe thead th {\n",
       "        text-align: right;\n",
       "    }\n",
       "</style>\n",
       "<table border=\"1\" class=\"dataframe\">\n",
       "  <thead>\n",
       "    <tr style=\"text-align: right;\">\n",
       "      <th></th>\n",
       "      <th>Survived</th>\n",
       "      <th>Pclass</th>\n",
       "      <th>Age</th>\n",
       "      <th>SibSp</th>\n",
       "      <th>Parch</th>\n",
       "      <th>Fare</th>\n",
       "      <th>Sex_male</th>\n",
       "      <th>Ticket_110413</th>\n",
       "      <th>Ticket_110465</th>\n",
       "      <th>Ticket_110469</th>\n",
       "      <th>...</th>\n",
       "      <th>Cabin_F2</th>\n",
       "      <th>Cabin_F33</th>\n",
       "      <th>Cabin_F38</th>\n",
       "      <th>Cabin_F4</th>\n",
       "      <th>Cabin_G6</th>\n",
       "      <th>Cabin_T</th>\n",
       "      <th>Cabin_Unknown</th>\n",
       "      <th>Embarked_Q</th>\n",
       "      <th>Embarked_S</th>\n",
       "      <th>Embarked_Unknown</th>\n",
       "    </tr>\n",
       "  </thead>\n",
       "  <tbody>\n",
       "    <tr>\n",
       "      <th>0</th>\n",
       "      <td>0.0</td>\n",
       "      <td>3</td>\n",
       "      <td>22.0</td>\n",
       "      <td>1</td>\n",
       "      <td>0</td>\n",
       "      <td>7.2500</td>\n",
       "      <td>1</td>\n",
       "      <td>0</td>\n",
       "      <td>0</td>\n",
       "      <td>0</td>\n",
       "      <td>...</td>\n",
       "      <td>0</td>\n",
       "      <td>0</td>\n",
       "      <td>0</td>\n",
       "      <td>0</td>\n",
       "      <td>0</td>\n",
       "      <td>0</td>\n",
       "      <td>1</td>\n",
       "      <td>0</td>\n",
       "      <td>1</td>\n",
       "      <td>0</td>\n",
       "    </tr>\n",
       "    <tr>\n",
       "      <th>1</th>\n",
       "      <td>1.0</td>\n",
       "      <td>1</td>\n",
       "      <td>38.0</td>\n",
       "      <td>1</td>\n",
       "      <td>0</td>\n",
       "      <td>71.2833</td>\n",
       "      <td>0</td>\n",
       "      <td>0</td>\n",
       "      <td>0</td>\n",
       "      <td>0</td>\n",
       "      <td>...</td>\n",
       "      <td>0</td>\n",
       "      <td>0</td>\n",
       "      <td>0</td>\n",
       "      <td>0</td>\n",
       "      <td>0</td>\n",
       "      <td>0</td>\n",
       "      <td>0</td>\n",
       "      <td>0</td>\n",
       "      <td>0</td>\n",
       "      <td>0</td>\n",
       "    </tr>\n",
       "    <tr>\n",
       "      <th>2</th>\n",
       "      <td>1.0</td>\n",
       "      <td>3</td>\n",
       "      <td>26.0</td>\n",
       "      <td>0</td>\n",
       "      <td>0</td>\n",
       "      <td>7.9250</td>\n",
       "      <td>0</td>\n",
       "      <td>0</td>\n",
       "      <td>0</td>\n",
       "      <td>0</td>\n",
       "      <td>...</td>\n",
       "      <td>0</td>\n",
       "      <td>0</td>\n",
       "      <td>0</td>\n",
       "      <td>0</td>\n",
       "      <td>0</td>\n",
       "      <td>0</td>\n",
       "      <td>1</td>\n",
       "      <td>0</td>\n",
       "      <td>1</td>\n",
       "      <td>0</td>\n",
       "    </tr>\n",
       "    <tr>\n",
       "      <th>3</th>\n",
       "      <td>1.0</td>\n",
       "      <td>1</td>\n",
       "      <td>35.0</td>\n",
       "      <td>1</td>\n",
       "      <td>0</td>\n",
       "      <td>53.1000</td>\n",
       "      <td>0</td>\n",
       "      <td>0</td>\n",
       "      <td>0</td>\n",
       "      <td>0</td>\n",
       "      <td>...</td>\n",
       "      <td>0</td>\n",
       "      <td>0</td>\n",
       "      <td>0</td>\n",
       "      <td>0</td>\n",
       "      <td>0</td>\n",
       "      <td>0</td>\n",
       "      <td>0</td>\n",
       "      <td>0</td>\n",
       "      <td>1</td>\n",
       "      <td>0</td>\n",
       "    </tr>\n",
       "    <tr>\n",
       "      <th>4</th>\n",
       "      <td>0.0</td>\n",
       "      <td>3</td>\n",
       "      <td>35.0</td>\n",
       "      <td>0</td>\n",
       "      <td>0</td>\n",
       "      <td>8.0500</td>\n",
       "      <td>1</td>\n",
       "      <td>0</td>\n",
       "      <td>0</td>\n",
       "      <td>0</td>\n",
       "      <td>...</td>\n",
       "      <td>0</td>\n",
       "      <td>0</td>\n",
       "      <td>0</td>\n",
       "      <td>0</td>\n",
       "      <td>0</td>\n",
       "      <td>0</td>\n",
       "      <td>1</td>\n",
       "      <td>0</td>\n",
       "      <td>1</td>\n",
       "      <td>0</td>\n",
       "    </tr>\n",
       "  </tbody>\n",
       "</table>\n",
       "<p>5 rows × 1124 columns</p>\n",
       "</div>"
      ],
      "text/plain": [
       "   Survived  Pclass   Age  SibSp  Parch     Fare  Sex_male  Ticket_110413  \\\n",
       "0       0.0       3  22.0      1      0   7.2500         1              0   \n",
       "1       1.0       1  38.0      1      0  71.2833         0              0   \n",
       "2       1.0       3  26.0      0      0   7.9250         0              0   \n",
       "3       1.0       1  35.0      1      0  53.1000         0              0   \n",
       "4       0.0       3  35.0      0      0   8.0500         1              0   \n",
       "\n",
       "   Ticket_110465  Ticket_110469  ...  Cabin_F2  Cabin_F33  Cabin_F38  \\\n",
       "0              0              0  ...         0          0          0   \n",
       "1              0              0  ...         0          0          0   \n",
       "2              0              0  ...         0          0          0   \n",
       "3              0              0  ...         0          0          0   \n",
       "4              0              0  ...         0          0          0   \n",
       "\n",
       "   Cabin_F4  Cabin_G6  Cabin_T  Cabin_Unknown  Embarked_Q  Embarked_S  \\\n",
       "0         0         0        0              1           0           1   \n",
       "1         0         0        0              0           0           0   \n",
       "2         0         0        0              1           0           1   \n",
       "3         0         0        0              0           0           1   \n",
       "4         0         0        0              1           0           1   \n",
       "\n",
       "   Embarked_Unknown  \n",
       "0                 0  \n",
       "1                 0  \n",
       "2                 0  \n",
       "3                 0  \n",
       "4                 0  \n",
       "\n",
       "[5 rows x 1124 columns]"
      ]
     },
     "execution_count": 9,
     "metadata": {},
     "output_type": "execute_result"
    }
   ],
   "source": [
    "df_train.head()"
   ]
  },
  {
   "cell_type": "code",
   "execution_count": 10,
   "id": "wrong-henry",
   "metadata": {
    "execution": {
     "iopub.execute_input": "2021-05-04T05:05:58.726994Z",
     "iopub.status.busy": "2021-05-04T05:05:58.726278Z",
     "iopub.status.idle": "2021-05-04T05:05:58.786362Z",
     "shell.execute_reply": "2021-05-04T05:05:58.785672Z"
    },
    "papermill": {
     "duration": 0.083478,
     "end_time": "2021-05-04T05:05:58.786504",
     "exception": false,
     "start_time": "2021-05-04T05:05:58.703026",
     "status": "completed"
    },
    "tags": []
   },
   "outputs": [],
   "source": [
    "X_train = df_train.drop('Survived', axis=1)\n",
    "y_train = df_train['Survived']\n",
    "# normalization\n",
    "scalar = StandardScaler()\n",
    "scalar.fit(X_train)\n",
    "X_train = scalar.transform(X_train)"
   ]
  },
  {
   "cell_type": "markdown",
   "id": "sufficient-newcastle",
   "metadata": {
    "papermill": {
     "duration": 0.017497,
     "end_time": "2021-05-04T05:05:58.821746",
     "exception": false,
     "start_time": "2021-05-04T05:05:58.804249",
     "status": "completed"
    },
    "tags": []
   },
   "source": [
    "# Train Classifier"
   ]
  },
  {
   "cell_type": "code",
   "execution_count": 11,
   "id": "joined-minutes",
   "metadata": {
    "execution": {
     "iopub.execute_input": "2021-05-04T05:05:58.864615Z",
     "iopub.status.busy": "2021-05-04T05:05:58.863885Z",
     "iopub.status.idle": "2021-05-04T05:05:58.867414Z",
     "shell.execute_reply": "2021-05-04T05:05:58.866742Z"
    },
    "papermill": {
     "duration": 0.028121,
     "end_time": "2021-05-04T05:05:58.867569",
     "exception": false,
     "start_time": "2021-05-04T05:05:58.839448",
     "status": "completed"
    },
    "tags": []
   },
   "outputs": [],
   "source": [
    "# cross validation method to train random forest classifier\n",
    "def random_forest_classifier_cv(feature_train, label_train, n_estimator):\n",
    "    skf = StratifiedKFold(n_splits=5, shuffle=True)\n",
    "    scores = []\n",
    "    for train_index, val_index in skf.split(feature_train, label_train):\n",
    "        X_cv_train, X_cv_val = feature_train[train_index], feature_train[val_index]\n",
    "        y_cv_train, y_cv_val = label_train[train_index], label_train[val_index]\n",
    "        rf = RandomForestClassifier(n_estimators=n_estimator).fit(X_cv_train, y_cv_train)\n",
    "        score = rf.score(X_cv_val, y_cv_val)\n",
    "        scores.append(score)\n",
    "    return scores"
   ]
  },
  {
   "cell_type": "code",
   "execution_count": 12,
   "id": "central-transcription",
   "metadata": {
    "execution": {
     "iopub.execute_input": "2021-05-04T05:05:58.911245Z",
     "iopub.status.busy": "2021-05-04T05:05:58.910520Z",
     "iopub.status.idle": "2021-05-04T05:07:48.696935Z",
     "shell.execute_reply": "2021-05-04T05:07:48.697677Z"
    },
    "papermill": {
     "duration": 109.811759,
     "end_time": "2021-05-04T05:07:48.697920",
     "exception": false,
     "start_time": "2021-05-04T05:05:58.886161",
     "status": "completed"
    },
    "tags": []
   },
   "outputs": [
    {
     "name": "stdout",
     "output_type": "stream",
     "text": [
      "N_estimator: 100\n",
      "avg_score: 0.8249890151277384\n",
      "N_estimator: 200\n",
      "avg_score: 0.8293955181721172\n",
      "N_estimator: 300\n",
      "avg_score: 0.8338773460548616\n",
      "N_estimator: 400\n",
      "avg_score: 0.8383968363567886\n",
      "N_estimator: 500\n",
      "avg_score: 0.8372920720607621\n",
      "N_estimator: 600\n",
      "avg_score: 0.8338899001945892\n",
      "N_estimator: 700\n",
      "avg_score: 0.8372732408511705\n",
      "N_estimator: 800\n",
      "avg_score: 0.8282844768062269\n",
      "N_estimator: 900\n",
      "avg_score: 0.835069989328981\n",
      "Best score: 0.8383968363567886. n_estimators: 400\n"
     ]
    }
   ],
   "source": [
    "n_estimators_list = [i*100 for i in range(1, 10)]\n",
    "opt_n_estimators = -1\n",
    "best_score = 0\n",
    "for n_estimator in n_estimators_list:\n",
    "    print(f'N_estimator: {n_estimator}')\n",
    "    scores = random_forest_classifier_cv(X_train, y_train, n_estimator)\n",
    "    avg_score = np.mean(scores)\n",
    "    print(f'avg_score: {avg_score}')\n",
    "    if avg_score > best_score:\n",
    "        opt_n_estimators = n_estimator\n",
    "        best_score = avg_score\n",
    "print(f'Best score: {best_score}. n_estimators: {opt_n_estimators}')"
   ]
  },
  {
   "cell_type": "markdown",
   "id": "established-fishing",
   "metadata": {
    "papermill": {
     "duration": 0.023696,
     "end_time": "2021-05-04T05:07:48.745077",
     "exception": false,
     "start_time": "2021-05-04T05:07:48.721381",
     "status": "completed"
    },
    "tags": []
   },
   "source": [
    "# Final Model"
   ]
  },
  {
   "cell_type": "code",
   "execution_count": 13,
   "id": "quick-helen",
   "metadata": {
    "execution": {
     "iopub.execute_input": "2021-05-04T05:07:48.792719Z",
     "iopub.status.busy": "2021-05-04T05:07:48.792050Z",
     "iopub.status.idle": "2021-05-04T05:07:51.346488Z",
     "shell.execute_reply": "2021-05-04T05:07:51.345763Z"
    },
    "papermill": {
     "duration": 2.580452,
     "end_time": "2021-05-04T05:07:51.346719",
     "exception": false,
     "start_time": "2021-05-04T05:07:48.766267",
     "status": "completed"
    },
    "tags": []
   },
   "outputs": [
    {
     "data": {
      "text/plain": [
       "0.9977553310886644"
      ]
     },
     "execution_count": 13,
     "metadata": {},
     "output_type": "execute_result"
    }
   ],
   "source": [
    "rf = RandomForestClassifier(n_estimators=opt_n_estimators).fit(X_train, y_train)\n",
    "rf.score(X_train, y_train)"
   ]
  },
  {
   "cell_type": "markdown",
   "id": "adverse-surprise",
   "metadata": {
    "papermill": {
     "duration": 0.020995,
     "end_time": "2021-05-04T05:07:51.389483",
     "exception": false,
     "start_time": "2021-05-04T05:07:51.368488",
     "status": "completed"
    },
    "tags": []
   },
   "source": [
    "# Prediction"
   ]
  },
  {
   "cell_type": "code",
   "execution_count": 14,
   "id": "prime-glory",
   "metadata": {
    "execution": {
     "iopub.execute_input": "2021-05-04T05:07:51.435624Z",
     "iopub.status.busy": "2021-05-04T05:07:51.434963Z",
     "iopub.status.idle": "2021-05-04T05:07:51.559002Z",
     "shell.execute_reply": "2021-05-04T05:07:51.559620Z"
    },
    "papermill": {
     "duration": 0.148787,
     "end_time": "2021-05-04T05:07:51.559808",
     "exception": false,
     "start_time": "2021-05-04T05:07:51.411021",
     "status": "completed"
    },
    "tags": []
   },
   "outputs": [],
   "source": [
    "X_test = df_test.drop('Survived', axis=1)\n",
    "X_test['Fare'].fillna(0, inplace=True)\n",
    "X_test = scalar.transform(X_test)\n",
    "y_pred = rf.predict(X_test)\n",
    "y_pred = y_pred.astype(int)"
   ]
  },
  {
   "cell_type": "code",
   "execution_count": 15,
   "id": "visible-assets",
   "metadata": {
    "execution": {
     "iopub.execute_input": "2021-05-04T05:07:51.606784Z",
     "iopub.status.busy": "2021-05-04T05:07:51.605997Z",
     "iopub.status.idle": "2021-05-04T05:07:51.615748Z",
     "shell.execute_reply": "2021-05-04T05:07:51.616284Z"
    },
    "papermill": {
     "duration": 0.034904,
     "end_time": "2021-05-04T05:07:51.616472",
     "exception": false,
     "start_time": "2021-05-04T05:07:51.581568",
     "status": "completed"
    },
    "tags": []
   },
   "outputs": [
    {
     "data": {
      "text/html": [
       "<div>\n",
       "<style scoped>\n",
       "    .dataframe tbody tr th:only-of-type {\n",
       "        vertical-align: middle;\n",
       "    }\n",
       "\n",
       "    .dataframe tbody tr th {\n",
       "        vertical-align: top;\n",
       "    }\n",
       "\n",
       "    .dataframe thead th {\n",
       "        text-align: right;\n",
       "    }\n",
       "</style>\n",
       "<table border=\"1\" class=\"dataframe\">\n",
       "  <thead>\n",
       "    <tr style=\"text-align: right;\">\n",
       "      <th></th>\n",
       "      <th>PassengerId</th>\n",
       "      <th>Survived</th>\n",
       "    </tr>\n",
       "  </thead>\n",
       "  <tbody>\n",
       "    <tr>\n",
       "      <th>0</th>\n",
       "      <td>892</td>\n",
       "      <td>0</td>\n",
       "    </tr>\n",
       "    <tr>\n",
       "      <th>1</th>\n",
       "      <td>893</td>\n",
       "      <td>0</td>\n",
       "    </tr>\n",
       "    <tr>\n",
       "      <th>2</th>\n",
       "      <td>894</td>\n",
       "      <td>0</td>\n",
       "    </tr>\n",
       "    <tr>\n",
       "      <th>3</th>\n",
       "      <td>895</td>\n",
       "      <td>0</td>\n",
       "    </tr>\n",
       "    <tr>\n",
       "      <th>4</th>\n",
       "      <td>896</td>\n",
       "      <td>1</td>\n",
       "    </tr>\n",
       "  </tbody>\n",
       "</table>\n",
       "</div>"
      ],
      "text/plain": [
       "   PassengerId  Survived\n",
       "0          892         0\n",
       "1          893         0\n",
       "2          894         0\n",
       "3          895         0\n",
       "4          896         1"
      ]
     },
     "execution_count": 15,
     "metadata": {},
     "output_type": "execute_result"
    }
   ],
   "source": [
    "df_sub = pd.DataFrame({'PassengerId':df_test_passengerId.values, 'Survived': y_pred})\n",
    "df_sub.head()"
   ]
  },
  {
   "cell_type": "code",
   "execution_count": 16,
   "id": "together-investigator",
   "metadata": {
    "execution": {
     "iopub.execute_input": "2021-05-04T05:07:51.664230Z",
     "iopub.status.busy": "2021-05-04T05:07:51.663435Z",
     "iopub.status.idle": "2021-05-04T05:07:51.673596Z",
     "shell.execute_reply": "2021-05-04T05:07:51.672813Z"
    },
    "papermill": {
     "duration": 0.034937,
     "end_time": "2021-05-04T05:07:51.673753",
     "exception": false,
     "start_time": "2021-05-04T05:07:51.638816",
     "status": "completed"
    },
    "tags": []
   },
   "outputs": [],
   "source": [
    "df_sub.to_csv('submission.csv',index=False)"
   ]
  },
  {
   "cell_type": "code",
   "execution_count": null,
   "id": "beginning-cross",
   "metadata": {
    "papermill": {
     "duration": 0.022348,
     "end_time": "2021-05-04T05:07:51.718409",
     "exception": false,
     "start_time": "2021-05-04T05:07:51.696061",
     "status": "completed"
    },
    "tags": []
   },
   "outputs": [],
   "source": []
  }
 ],
 "metadata": {
  "kernelspec": {
   "display_name": "Python 3",
   "language": "python",
   "name": "python3"
  },
  "language_info": {
   "codemirror_mode": {
    "name": "ipython",
    "version": 3
   },
   "file_extension": ".py",
   "mimetype": "text/x-python",
   "name": "python",
   "nbconvert_exporter": "python",
   "pygments_lexer": "ipython3",
   "version": "3.7.10"
  },
  "papermill": {
   "default_parameters": {},
   "duration": 124.74279,
   "end_time": "2021-05-04T05:07:52.551640",
   "environment_variables": {},
   "exception": null,
   "input_path": "__notebook__.ipynb",
   "output_path": "__notebook__.ipynb",
   "parameters": {},
   "start_time": "2021-05-04T05:05:47.808850",
   "version": "2.3.3"
  }
 },
 "nbformat": 4,
 "nbformat_minor": 5
}
